{
 "cells": [
  {
   "cell_type": "code",
   "execution_count": null,
   "metadata": {},
   "outputs": [],
   "source": [
    "from tkinter import *\n",
    "from tkinter import messagebox\n",
    "import requests\n",
    "import json\n",
    "from configparser import ConfigParser"
   ]
  },
  {
   "cell_type": "code",
   "execution_count": null,
   "metadata": {},
   "outputs": [],
   "source": [
    "url = 'http://api.openweathermap.org/data/2.5/weather?q={}&appid={}'"
   ]
  },
  {
   "cell_type": "code",
   "execution_count": null,
   "metadata": {},
   "outputs": [],
   "source": [
    "config_file = 'config.ini'\n",
    "config = ConfigParser()\n",
    "config.read(config_file)\n",
    "api_key = config['api_key']['key']\n",
    "print(api_key)"
   ]
  },
  {
   "cell_type": "code",
   "execution_count": null,
   "metadata": {},
   "outputs": [],
   "source": [
    "def search_weather(city):\n",
    "    result = requests.get(url.format(city,api_key))\n",
    "    if result:\n",
    "        readable = result.json()\n",
    "        city = readable['name']\n",
    "        country = readable['sys']['country']\n",
    "        t_k = readable['main']['temp']\n",
    "        t_c = int(t_k - 273.15)\n",
    "        t_f = int(t_c*9/5+32)\n",
    "        weather = readable['weather'][0]['main']\n",
    "        final = (city , country , t_c , t_f , weather)\n",
    "        return final\n",
    "    else:\n",
    "        return None"
   ]
  },
  {
   "cell_type": "code",
   "execution_count": null,
   "metadata": {},
   "outputs": [],
   "source": [
    "def search():\n",
    "    city = c_txt.get()\n",
    "    weather = search_weather(city)\n",
    "    if weather:\n",
    "        loc_lbl['text'] = '{},{}'.format(weather[0],weather[1])\n",
    "        temp_lbl['text'] = '{}°C , {}°F'.format(weather[2],weather[3])\n",
    "        w_lbl['text'] = '{}'.format(weather[4]) \n",
    "    else:\n",
    "        messagebox.showerror('Error','City not found')\n",
    "    loc_lbl.pack(pady = 10)\n",
    "    temp_lbl.pack(pady = 10)\n",
    "    w_lbl.pack(pady = 10)"
   ]
  },
  {
   "cell_type": "code",
   "execution_count": null,
   "metadata": {},
   "outputs": [],
   "source": [
    "root=Tk()\n",
    "root.title('Weather')\n",
    "root.configure(bg = 'light blue')\n",
    "root.geometry('300x300')\n",
    "\n",
    "\n",
    "c_txt = StringVar()\n",
    "\n",
    "city_entry = Entry(root, textvariable= c_txt)\n",
    "city_entry.pack(pady = 10)\n",
    "\n",
    "search = Button(root, text='Search',command=search)\n",
    "search.pack(pady = 10)\n",
    "\n",
    "loc_lbl = Label(root, text = 'Location',font='bold')\n",
    "\n",
    "\n",
    "temp_lbl = Label(root,text = 'Temprature',font = 'bold')\n",
    "\n",
    "\n",
    "w_lbl = Label(root,text = 'Weather',font = 'bold')\n",
    "\n",
    "\n",
    "\n",
    "root.mainloop()"
   ]
  }
 ],
 "metadata": {
  "kernelspec": {
   "display_name": "Python 3",
   "language": "python",
   "name": "python3"
  },
  "language_info": {
   "codemirror_mode": {
    "name": "ipython",
    "version": 3
   },
   "file_extension": ".py",
   "mimetype": "text/x-python",
   "name": "python",
   "nbconvert_exporter": "python",
   "pygments_lexer": "ipython3",
   "version": "3.7.6"
  }
 },
 "nbformat": 4,
 "nbformat_minor": 4
}
